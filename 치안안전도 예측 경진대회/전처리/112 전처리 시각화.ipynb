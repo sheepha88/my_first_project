{
 "cells": [
  {
   "cell_type": "code",
   "execution_count": 1,
   "id": "liable-wholesale",
   "metadata": {},
   "outputs": [],
   "source": [
    "import pandas as pd\n",
    "import numpy as np\n",
    "import missingno as msno\n",
    "import matplotlib.pyplot as plt"
   ]
  },
  {
   "cell_type": "code",
   "execution_count": 7,
   "id": "portable-moscow",
   "metadata": {},
   "outputs": [],
   "source": [
    "call = pd.read_csv('5.112신고.csv')"
   ]
  },
  {
   "cell_type": "code",
   "execution_count": 14,
   "id": "laughing-irish",
   "metadata": {},
   "outputs": [
    {
     "data": {
      "text/plain": [
       "<AxesSubplot:>"
      ]
     },
     "execution_count": 14,
     "metadata": {},
     "output_type": "execute_result"
    },
    {
     "data": {
      "image/png": "[encoded data removed]",
      "text/plain": [
       "<Figure size 432x288 with 1 Axes>"
      ]
     },
     "metadata": {
      "needs_background": "light"
     },
     "output_type": "display_data"
    }
   ],
   "source": [
    "a = ((call.isnull().sum())/len(call))*100\n",
    "a.plot.bar(color='yellow')"
   ]
  },
  {
   "cell_type": "code",
   "execution_count": 3,
   "id": "finished-reggae",
   "metadata": {},
   "outputs": [
    {
     "data": {
      "text/plain": [
       "9081726"
      ]
     },
     "execution_count": 3,
     "metadata": {},
     "output_type": "execute_result"
    }
   ],
   "source": [
    "sum(call.value_counts('inc_info').values)"
   ]
  },
  {
   "cell_type": "code",
   "execution_count": 4,
   "id": "other-survivor",
   "metadata": {},
   "outputs": [
    {
     "data": {
      "image/png": "[encoded data removed]",
      "text/plain": [
       "<Figure size 648x504 with 1 Axes>"
      ]
     },
     "metadata": {
      "needs_background": "light"
     },
     "output_type": "display_data"
    },
    {
     "name": "stdout",
     "output_type": "stream",
     "text": [
      "[0.851688324444054, 0.9414864531257604]\n",
      "[0.14831167555594607, 0.05851354687423954]\n"
     ]
    }
   ],
   "source": [
    "normal = [(call.value_counts('report_sx')['여성']+call.value_counts('report_sx')['남성']) /\\\n",
    "          sum(call.value_counts('report_sx').values)\n",
    "          , (sum(call.value_counts('inc_info').values) - call.value_counts('inc_info')['내용확인불가'])/\\\n",
    "          sum(call.value_counts('inc_info').values)]\n",
    "unknown = [(call.value_counts('report_sx')['불상'])/sum(call.value_counts('report_sx').values), \n",
    "           (call.value_counts('inc_info')['내용확인불가'])/sum(call.value_counts('inc_info').values)]\n",
    "\n",
    "column = ['report_sx', 'inc_info']\n",
    "\n",
    "plt.figure(figsize=(9,7))\n",
    "plt.bar(column,normal,label=\"Normal\")\n",
    "plt.bar(column,unknown,color=\"red\",bottom=normal,label=\"NA\")\n",
    "\n",
    "plt.legend(loc=\"lower left\",bbox_to_anchor=(0.8,1.0))\n",
    "plt.show()\n",
    "\n"
   ]
  }
 ],
 "metadata": {
  "kernelspec": {
   "display_name": "Python 3",
   "language": "python",
   "name": "python3"
  },
  "language_info": {
   "codemirror_mode": {
    "name": "ipython",
    "version": 3
   },
   "file_extension": ".py",
   "mimetype": "text/x-python",
   "name": "python",
   "nbconvert_exporter": "python",
   "pygments_lexer": "ipython3",
   "version": "3.6.9"
  }
 },
 "nbformat": 4,
 "nbformat_minor": 5
}
