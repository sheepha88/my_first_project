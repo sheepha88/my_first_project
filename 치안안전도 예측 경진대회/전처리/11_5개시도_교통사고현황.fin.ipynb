{
 "cells": [
  {
   "cell_type": "code",
   "execution_count": 1,
   "id": "fourth-maker",
   "metadata": {},
   "outputs": [],
   "source": [
    "import pandas as pd"
   ]
  },
  {
   "cell_type": "code",
   "execution_count": 30,
   "id": "worldwide-conflict",
   "metadata": {},
   "outputs": [
    {
     "data": {
      "text/html": [
       "<div>\n",
       "<style scoped>\n",
       "    .dataframe tbody tr th:only-of-type {\n",
       "        vertical-align: middle;\n",
       "    }\n",
       "\n",
       "    .dataframe tbody tr th {\n",
       "        vertical-align: top;\n",
       "    }\n",
       "\n",
       "    .dataframe thead th {\n",
       "        text-align: right;\n",
       "    }\n",
       "</style>\n",
       "<table border=\"1\" class=\"dataframe\">\n",
       "  <thead>\n",
       "    <tr style=\"text-align: right;\">\n",
       "      <th></th>\n",
       "      <th>date</th>\n",
       "      <th>acc_case</th>\n",
       "      <th>ofn_sx</th>\n",
       "      <th>ofn_age</th>\n",
       "      <th>vic_sx</th>\n",
       "      <th>vic_age</th>\n",
       "      <th>jur_stn</th>\n",
       "    </tr>\n",
       "  </thead>\n",
       "  <tbody>\n",
       "    <tr>\n",
       "      <th>140949</th>\n",
       "      <td>2019년 8월</td>\n",
       "      <td>차대사람 - 횡단중</td>\n",
       "      <td>남</td>\n",
       "      <td>40대</td>\n",
       "      <td>여</td>\n",
       "      <td>90대 이상</td>\n",
       "      <td>마산중부</td>\n",
       "    </tr>\n",
       "    <tr>\n",
       "      <th>140950</th>\n",
       "      <td>2020년 12월</td>\n",
       "      <td>차대사람 - 차도통행중</td>\n",
       "      <td>여</td>\n",
       "      <td>40대</td>\n",
       "      <td>여</td>\n",
       "      <td>90대 이상</td>\n",
       "      <td>창원중부</td>\n",
       "    </tr>\n",
       "    <tr>\n",
       "      <th>140951</th>\n",
       "      <td>2019년 4월</td>\n",
       "      <td>차대사람 - 횡단중</td>\n",
       "      <td>남</td>\n",
       "      <td>60대</td>\n",
       "      <td>남</td>\n",
       "      <td>90대 이상</td>\n",
       "      <td>진해경찰서</td>\n",
       "    </tr>\n",
       "    <tr>\n",
       "      <th>140952</th>\n",
       "      <td>2019년 5월</td>\n",
       "      <td>차대사람 - 차도통행중</td>\n",
       "      <td>남</td>\n",
       "      <td>20대</td>\n",
       "      <td>남</td>\n",
       "      <td>90대 이상</td>\n",
       "      <td>진해경찰서</td>\n",
       "    </tr>\n",
       "    <tr>\n",
       "      <th>140953</th>\n",
       "      <td>2020년 9월</td>\n",
       "      <td>차대차 - 기타</td>\n",
       "      <td>여</td>\n",
       "      <td>40대</td>\n",
       "      <td>남</td>\n",
       "      <td>90대 이상</td>\n",
       "      <td>진해경찰서</td>\n",
       "    </tr>\n",
       "  </tbody>\n",
       "</table>\n",
       "</div>"
      ],
      "text/plain": [
       "             date      acc_case ofn_sx ofn_age vic_sx vic_age jur_stn\n",
       "140949   2019년 8월    차대사람 - 횡단중      남     40대      여  90대 이상    마산중부\n",
       "140950  2020년 12월  차대사람 - 차도통행중      여     40대      여  90대 이상    창원중부\n",
       "140951   2019년 4월    차대사람 - 횡단중      남     60대      남  90대 이상   진해경찰서\n",
       "140952   2019년 5월  차대사람 - 차도통행중      남     20대      남  90대 이상   진해경찰서\n",
       "140953   2020년 9월      차대차 - 기타      여     40대      남  90대 이상   진해경찰서"
      ]
     },
     "execution_count": 30,
     "metadata": {},
     "output_type": "execute_result"
    }
   ],
   "source": [
    "df = pd.read_csv(\"raw_data/11.5개시도_교통사고현황.csv\")\n",
    "df.tail()"
   ]
  },
  {
   "cell_type": "code",
   "execution_count": 4,
   "id": "blond-registrar",
   "metadata": {},
   "outputs": [
    {
     "data": {
      "text/plain": [
       "array(['차대차 - 측면충돌', '차대차 - 기타', '차대차 - 추돌', '차대사람 - 횡단중', '차량단독 - 기타',\n",
       "       '차대사람 - 길가장자리구역통행중', '차대사람 - 보도통행중', '차대사람 - 기타', '차대사람 - 차도통행중',\n",
       "       '차량단독 - 공작물충돌', '차대차 - 정면충돌', '차대차 - 후진중충돌', '차량단독 - 전도전복 - 전도',\n",
       "       '차량단독 - 주/정차차량 충돌', '차량단독 - 전도전복 - 전복', '차량단독 - 도로외이탈 - 추락',\n",
       "       '차대사람  - 길가장자리구역통행중', '차대사람  - 횡단중', '차대차  - 추돌', '차대차  - 측면충돌',\n",
       "       '차량단독  - 기타', '차량단독  - 전도전복 - 전도', '차대사람  - 차도통행중', '차대차  - 기타',\n",
       "       '차대사람  - 기타', '차대사람  - 보도통행중', '차대차  - 후진중충돌', '차대차  - 정면충돌',\n",
       "       '차량단독  - 공작물충돌', '차량단독  - 주/정차차량 충돌', '차량단독  - 전도전복 - 전복',\n",
       "       '차량단독  - 도로외이탈 - 기타', '차량단독  - 도로외이탈 - 추락', '차량단독 - 도로외이탈 - 기타'],\n",
       "      dtype=object)"
      ]
     },
     "execution_count": 4,
     "metadata": {},
     "output_type": "execute_result"
    }
   ],
   "source": [
    "df[\"acc_case\"].unique()"
   ]
  },
  {
   "cell_type": "code",
   "execution_count": 6,
   "id": "important-peeing",
   "metadata": {},
   "outputs": [
    {
     "data": {
      "text/plain": [
       "date           0\n",
       "acc_case       0\n",
       "ofn_sx         0\n",
       "ofn_age        0\n",
       "vic_sx      4427\n",
       "vic_age        0\n",
       "jur_stn        0\n",
       "dtype: int64"
      ]
     },
     "execution_count": 6,
     "metadata": {},
     "output_type": "execute_result"
    }
   ],
   "source": [
    "df.isnull().sum()"
   ]
  },
  {
   "cell_type": "code",
   "execution_count": 33,
   "id": "intelligent-flexibility",
   "metadata": {},
   "outputs": [
    {
     "data": {
      "text/html": [
       "<div>\n",
       "<style scoped>\n",
       "    .dataframe tbody tr th:only-of-type {\n",
       "        vertical-align: middle;\n",
       "    }\n",
       "\n",
       "    .dataframe tbody tr th {\n",
       "        vertical-align: top;\n",
       "    }\n",
       "\n",
       "    .dataframe thead th {\n",
       "        text-align: right;\n",
       "    }\n",
       "</style>\n",
       "<table border=\"1\" class=\"dataframe\">\n",
       "  <thead>\n",
       "    <tr style=\"text-align: right;\">\n",
       "      <th></th>\n",
       "      <th>date</th>\n",
       "      <th>acc_case</th>\n",
       "      <th>ofn_sx</th>\n",
       "      <th>ofn_age</th>\n",
       "      <th>vic_sx</th>\n",
       "      <th>vic_age</th>\n",
       "      <th>관할서</th>\n",
       "    </tr>\n",
       "  </thead>\n",
       "  <tbody>\n",
       "    <tr>\n",
       "      <th>0</th>\n",
       "      <td>2018년 1월</td>\n",
       "      <td>차대차 - 측면충돌</td>\n",
       "      <td>남</td>\n",
       "      <td>20대</td>\n",
       "      <td>남</td>\n",
       "      <td>50대</td>\n",
       "      <td>서울중부</td>\n",
       "    </tr>\n",
       "    <tr>\n",
       "      <th>1</th>\n",
       "      <td>2018년 1월</td>\n",
       "      <td>차대차 - 측면충돌</td>\n",
       "      <td>여</td>\n",
       "      <td>50대</td>\n",
       "      <td>남</td>\n",
       "      <td>70대</td>\n",
       "      <td>서울중부</td>\n",
       "    </tr>\n",
       "    <tr>\n",
       "      <th>2</th>\n",
       "      <td>2018년 1월</td>\n",
       "      <td>차대차 - 측면충돌</td>\n",
       "      <td>남</td>\n",
       "      <td>40대</td>\n",
       "      <td>남</td>\n",
       "      <td>50대</td>\n",
       "      <td>서울중부</td>\n",
       "    </tr>\n",
       "    <tr>\n",
       "      <th>3</th>\n",
       "      <td>2018년 1월</td>\n",
       "      <td>차대차 - 기타</td>\n",
       "      <td>기타불명</td>\n",
       "      <td>미분류</td>\n",
       "      <td>여</td>\n",
       "      <td>40대</td>\n",
       "      <td>서울중부</td>\n",
       "    </tr>\n",
       "    <tr>\n",
       "      <th>4</th>\n",
       "      <td>2018년 1월</td>\n",
       "      <td>차대차 - 기타</td>\n",
       "      <td>남</td>\n",
       "      <td>60대</td>\n",
       "      <td>남</td>\n",
       "      <td>50대</td>\n",
       "      <td>서울중부</td>\n",
       "    </tr>\n",
       "  </tbody>\n",
       "</table>\n",
       "</div>"
      ],
      "text/plain": [
       "       date    acc_case ofn_sx ofn_age vic_sx vic_age   관할서\n",
       "0  2018년 1월  차대차 - 측면충돌      남     20대      남     50대  서울중부\n",
       "1  2018년 1월  차대차 - 측면충돌      여     50대      남     70대  서울중부\n",
       "2  2018년 1월  차대차 - 측면충돌      남     40대      남     50대  서울중부\n",
       "3  2018년 1월    차대차 - 기타   기타불명     미분류      여     40대  서울중부\n",
       "4  2018년 1월    차대차 - 기타      남     60대      남     50대  서울중부"
      ]
     },
     "execution_count": 33,
     "metadata": {},
     "output_type": "execute_result"
    }
   ],
   "source": [
    "#컬럼 바꾸기\n",
    "df = df.rename(columns = {\"jur_stn\":\"관할서\"})\n",
    "df.head()"
   ]
  },
  {
   "cell_type": "markdown",
   "id": "protecting-lodge",
   "metadata": {},
   "source": [
    "## 1. 연도별 정리\n",
    "\n",
    "+  2017년도 없음"
   ]
  },
  {
   "cell_type": "code",
   "execution_count": 34,
   "id": "studied-amendment",
   "metadata": {},
   "outputs": [],
   "source": [
    "#경찰서 붙여주기\n",
    "df[\"관할서\"] = df[\"관할서\"]+\"경찰서\""
   ]
  },
  {
   "cell_type": "code",
   "execution_count": 35,
   "id": "common-meditation",
   "metadata": {},
   "outputs": [],
   "source": [
    "# 관할서명  수정\n",
    "df[\"관할서\"] = df[\"관할서\"].str.replace(\"마산\", \"경남마산\")                                     \n",
    "df[\"관할서\"] = df[\"관할서\"].str.replace(\"창원\", \"경남창원\")\n",
    "df[\"관할서\"] = df[\"관할서\"].str.replace(\"수원\", \"경기수원\")\n",
    "df[\"관할서\"] = df[\"관할서\"].str.replace(\"진주\", \"경남진주\")\n",
    "df[\"관할서\"] = df[\"관할서\"].str.replace(\"진해\", \"경남진해\")\n",
    "df[\"관할서\"] = df[\"관할서\"].str.replace(\"세종\", \"충남세종\")                                           "
   ]
  },
  {
   "cell_type": "code",
   "execution_count": 36,
   "id": "promotional-ability",
   "metadata": {},
   "outputs": [],
   "source": [
    "# 18, 19, 20\n",
    "df_2018 = df[df[\"date\"].str.contains(\"2018\")].reset_index(drop=True)\n",
    "df_2019 = df[df[\"date\"].str.contains(\"2019\")].reset_index(drop=True)\n",
    "df_2020 = df[df[\"date\"].str.contains(\"2020\")].reset_index(drop=True)"
   ]
  },
  {
   "cell_type": "markdown",
   "id": "hairy-judgment",
   "metadata": {},
   "source": [
    "## 3. 연도별, 관할서별 정리"
   ]
  },
  {
   "cell_type": "code",
   "execution_count": 45,
   "id": "ordered-suspension",
   "metadata": {},
   "outputs": [],
   "source": [
    "df_18_acc = pd.DataFrame(df_2018.groupby(\"관할서\", sort = True).count()[\"date\"]).reset_index().rename(columns = {\"date\":\"18_acc_cnt\"})\n",
    "df_19_acc = pd.DataFrame(df_2019.groupby(\"관할서\", sort = True).count()[\"date\"]).reset_index().rename(columns = {\"date\":\"19_acc_cnt\"})\n",
    "df_20_acc = pd.DataFrame(df_2020.groupby(\"관할서\", sort = True).count()[\"date\"]).reset_index().rename(columns = {\"date\":\"20_acc_cnt\"})"
   ]
  },
  {
   "cell_type": "code",
   "execution_count": 48,
   "id": "natural-locking",
   "metadata": {},
   "outputs": [],
   "source": [
    "## 18, 19년 병합 후 파일 생성\n",
    "pd.merge(df_18_acc, df_19_acc, on = \"관할서\").to_csv(\"전처리완성본/11_관할서별_교통사고건수\")"
   ]
  },
  {
   "cell_type": "code",
   "execution_count": 49,
   "id": "processed-identifier",
   "metadata": {},
   "outputs": [],
   "source": [
    "##20년도 파일 따로 저장\n",
    "df_20_acc.to_csv(\"20년도_예측을위한_변수data/20년도_관할서별_교통사고 건수\")"
   ]
  }
 ],
 "metadata": {
  "kernelspec": {
   "display_name": "Python 3",
   "language": "python",
   "name": "python3"
  },
  "language_info": {
   "codemirror_mode": {
    "name": "ipython",
    "version": 3
   },
   "file_extension": ".py",
   "mimetype": "text/x-python",
   "name": "python",
   "nbconvert_exporter": "python",
   "pygments_lexer": "ipython3",
   "version": "3.6.9"
  }
 },
 "nbformat": 4,
 "nbformat_minor": 5
}
